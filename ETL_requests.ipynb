{
 "cells": [
  {
   "cell_type": "code",
   "execution_count": 1,
   "id": "8fce311c-177a-4ca4-8a6d-d678bce0566f",
   "metadata": {},
   "outputs": [],
   "source": [
    "import pandas as pd\n",
    "from bs4 import BeautifulSoup\n",
    "import requests\n",
    "import psycopg2"
   ]
  },
  {
   "cell_type": "code",
   "execution_count": 2,
   "id": "5ed5ecad-5f06-4df5-8822-ba84950e64a3",
   "metadata": {},
   "outputs": [],
   "source": [
    "url = \"https://web.archive.org/web/20200318083015/https://en.wikipedia.org/wiki/List_of_largest_banks\"\n",
    "scrapped_data = requests.get(url)"
   ]
  },
  {
   "cell_type": "code",
   "execution_count": 3,
   "id": "1b4faf7f-4af8-4d9b-801c-f23bd920f9d0",
   "metadata": {},
   "outputs": [
    {
     "name": "stdout",
     "output_type": "stream",
     "text": [
      "True\n"
     ]
    }
   ],
   "source": [
    "print(scrapped_data.ok)"
   ]
  },
  {
   "cell_type": "code",
   "execution_count": 4,
   "id": "abf28de3-0c2c-4aef-a582-8c58dd534f43",
   "metadata": {},
   "outputs": [],
   "source": [
    "soup = BeautifulSoup(scrapped_data.text, 'html.parser')"
   ]
  },
  {
   "cell_type": "code",
   "execution_count": 5,
   "id": "e6cc3dca-61c8-4dc9-9d0a-790d6f1c3b93",
   "metadata": {},
   "outputs": [
    {
     "data": {
      "text/html": [
       "<div>\n",
       "<style scoped>\n",
       "    .dataframe tbody tr th:only-of-type {\n",
       "        vertical-align: middle;\n",
       "    }\n",
       "\n",
       "    .dataframe tbody tr th {\n",
       "        vertical-align: top;\n",
       "    }\n",
       "\n",
       "    .dataframe thead th {\n",
       "        text-align: right;\n",
       "    }\n",
       "</style>\n",
       "<table border=\"1\" class=\"dataframe\">\n",
       "  <thead>\n",
       "    <tr style=\"text-align: right;\">\n",
       "      <th></th>\n",
       "      <th>Name</th>\n",
       "      <th>Market Cap (US$ Billion)</th>\n",
       "    </tr>\n",
       "  </thead>\n",
       "  <tbody>\n",
       "    <tr>\n",
       "      <th>0</th>\n",
       "      <td>JPMorgan Chase</td>\n",
       "      <td>390.934</td>\n",
       "    </tr>\n",
       "    <tr>\n",
       "      <th>1</th>\n",
       "      <td>Industrial and Commercial Bank of China</td>\n",
       "      <td>345.214</td>\n",
       "    </tr>\n",
       "    <tr>\n",
       "      <th>2</th>\n",
       "      <td>Bank of America</td>\n",
       "      <td>325.331</td>\n",
       "    </tr>\n",
       "    <tr>\n",
       "      <th>3</th>\n",
       "      <td>Wells Fargo</td>\n",
       "      <td>308.013</td>\n",
       "    </tr>\n",
       "    <tr>\n",
       "      <th>4</th>\n",
       "      <td>China Construction Bank</td>\n",
       "      <td>257.399</td>\n",
       "    </tr>\n",
       "    <tr>\n",
       "      <th>...</th>\n",
       "      <td>...</td>\n",
       "      <td>...</td>\n",
       "    </tr>\n",
       "    <tr>\n",
       "      <th>65</th>\n",
       "      <td>Ping An Bank</td>\n",
       "      <td>37.993</td>\n",
       "    </tr>\n",
       "    <tr>\n",
       "      <th>66</th>\n",
       "      <td>Standard Chartered</td>\n",
       "      <td>37.319</td>\n",
       "    </tr>\n",
       "    <tr>\n",
       "      <th>67</th>\n",
       "      <td>United Overseas Bank</td>\n",
       "      <td>35.128</td>\n",
       "    </tr>\n",
       "    <tr>\n",
       "      <th>68</th>\n",
       "      <td>QNB Group</td>\n",
       "      <td>33.560</td>\n",
       "    </tr>\n",
       "    <tr>\n",
       "      <th>69</th>\n",
       "      <td>Bank Rakyat</td>\n",
       "      <td>33.081</td>\n",
       "    </tr>\n",
       "  </tbody>\n",
       "</table>\n",
       "<p>70 rows × 2 columns</p>\n",
       "</div>"
      ],
      "text/plain": [
       "                                       Name  Market Cap (US$ Billion)\n",
       "0                            JPMorgan Chase                   390.934\n",
       "1   Industrial and Commercial Bank of China                   345.214\n",
       "2                           Bank of America                   325.331\n",
       "3                               Wells Fargo                   308.013\n",
       "4                   China Construction Bank                   257.399\n",
       "..                                      ...                       ...\n",
       "65                             Ping An Bank                    37.993\n",
       "66                       Standard Chartered                    37.319\n",
       "67                     United Overseas Bank                    35.128\n",
       "68                                QNB Group                    33.560\n",
       "69                              Bank Rakyat                    33.081\n",
       "\n",
       "[70 rows x 2 columns]"
      ]
     },
     "execution_count": 5,
     "metadata": {},
     "output_type": "execute_result"
    }
   ],
   "source": [
    "data_list = []\n",
    "\n",
    "headline = soup.find(id=\"By_market_capitalization\")\n",
    "table = headline.find_next(\"table\")\n",
    "doc = table.tbody\n",
    "\n",
    "for element in doc.contents[2::2]:\n",
    "    anchors = element.find_all('a')\n",
    "    name = anchors[-1].text\n",
    "    price = element.find_all('td')[-1].text\n",
    "    price = float(price[:-1])\n",
    "    data_list.append({\"Name\": name, \"Market Cap (US$ Billion)\": price})\n",
    "\n",
    "data = pd.DataFrame(data_list)\n",
    "data"
   ]
  },
  {
   "cell_type": "code",
   "execution_count": 15,
   "id": "393b3601-167c-4100-ae12-c5410b4ade30",
   "metadata": {},
   "outputs": [],
   "source": [
    "def create_db(dbname):\n",
    "\n",
    "    conn = psycopg2.connect(\"host=127.0.0.1 dbname=postgres user=postgres password=root\")\n",
    "    conn.set_session(autocommit=True)\n",
    "    cur = conn.cursor()\n",
    "\n",
    "    cur.execute(\"DROP DATABASE IF EXISTS \" + dbname)\n",
    "    cur.execute(\"CREATE DATABASE \" + dbname)\n",
    "\n",
    "    conn.close()\n",
    "\n",
    "    conn = psycopg2.connect(\"host=127.0.0.1 dbname=\" + dbname + \" user=postgres password=root\")\n",
    "    conn.set_session(autocommit=True)\n",
    "    cur = conn.cursor()\n",
    "\n",
    "    return conn, cur"
   ]
  },
  {
   "cell_type": "code",
   "execution_count": 17,
   "id": "328b0aa7-1cc3-4ee5-851f-c3633b3f63c3",
   "metadata": {},
   "outputs": [],
   "source": [
    "dbname = \"banks\"\n",
    "conn, cur = create_db(dbname)"
   ]
  },
  {
   "cell_type": "code",
   "execution_count": 18,
   "id": "937eb732-95b9-468e-8335-7cc43c7ffa6f",
   "metadata": {},
   "outputs": [],
   "source": [
    "largest_banks_create = (\"\"\"CREATE TABLE IF NOT EXISTS largest_banks(\n",
    "country_name varchar,\n",
    "market_cap numeric\n",
    ")\"\"\"\n",
    ")"
   ]
  },
  {
   "cell_type": "code",
   "execution_count": 19,
   "id": "0a00ffb4-fa8b-4369-8516-d6116bf832de",
   "metadata": {},
   "outputs": [],
   "source": [
    "cur.execute(largest_banks_create)"
   ]
  },
  {
   "cell_type": "code",
   "execution_count": 25,
   "id": "3944940d-11f1-4fb7-b087-2f4500657aa0",
   "metadata": {},
   "outputs": [],
   "source": [
    "largest_banks_insert = (\"\"\"INSERT INTO largest_banks(\n",
    "country_name,\n",
    "market_cap)\n",
    "VALUES(%s, %s)\n",
    "\"\"\")"
   ]
  },
  {
   "cell_type": "code",
   "execution_count": 29,
   "id": "f5aa552b-3069-40bf-8d3e-f75e1fe84fac",
   "metadata": {},
   "outputs": [],
   "source": [
    "for i, row in data.iterrows():\n",
    "    cur.execute(largest_banks_insert, list(row))\n"
   ]
  },
  {
   "cell_type": "code",
   "execution_count": 30,
   "id": "c5fa5acd-5429-411b-8ec0-84488305d96c",
   "metadata": {},
   "outputs": [],
   "source": [
    "conn.close()\n",
    "cur.close()"
   ]
  },
  {
   "cell_type": "code",
   "execution_count": null,
   "id": "c567403c-badb-4b8e-a845-39123f1325f6",
   "metadata": {},
   "outputs": [],
   "source": []
  }
 ],
 "metadata": {
  "kernelspec": {
   "display_name": "Python 3 (ipykernel)",
   "language": "python",
   "name": "python3"
  },
  "language_info": {
   "codemirror_mode": {
    "name": "ipython",
    "version": 3
   },
   "file_extension": ".py",
   "mimetype": "text/x-python",
   "name": "python",
   "nbconvert_exporter": "python",
   "pygments_lexer": "ipython3",
   "version": "3.11.5"
  }
 },
 "nbformat": 4,
 "nbformat_minor": 5
}
