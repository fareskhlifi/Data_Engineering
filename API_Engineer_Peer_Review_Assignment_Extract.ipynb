{
 "cells": [
  {
   "cell_type": "markdown",
   "metadata": {},
   "source": [
    "<p style=\"text-align:center\">\n",
    "    <a href=\"https://skills.network/?utm_medium=Exinfluencer&utm_source=Exinfluencer&utm_content=000026UJ&utm_term=10006555&utm_id=NA-SkillsNetwork-Channel-SkillsNetworkCoursesIBMDeveloperSkillsNetworkPY0221ENSkillsNetwork899-2023-01-01\">\n",
    "    <img src=\"https://cf-courses-data.s3.us.cloud-object-storage.appdomain.cloud/assets/logos/SN_web_lightmode.png\" width=\"200\" alt=\"Skills Network Logo\"  />\n",
    "    </a>\n",
    "</p>\n"
   ]
  },
  {
   "cell_type": "markdown",
   "metadata": {},
   "source": [
    "# Peer Review Assignment - Data Engineer - Extract API Data\n"
   ]
  },
  {
   "cell_type": "markdown",
   "metadata": {},
   "source": [
    "Estimated time needed: **20** minutes\n"
   ]
  },
  {
   "cell_type": "markdown",
   "metadata": {},
   "source": [
    "## Objectives\n",
    "\n",
    "In this part you will:\n",
    "\n",
    "-   Collect exchange rate data using an API\n",
    "-   Store the data as a CSV\n"
   ]
  },
  {
   "cell_type": "markdown",
   "metadata": {},
   "source": [
    "For this lab, we are going to be using Python and several Python libraries. Some of these libraries might be installed in your lab environment or in SN Labs. Others may need to be installed by you. The cells below will install these libraries when executed.\n"
   ]
  },
  {
   "cell_type": "code",
   "execution_count": null,
   "metadata": {},
   "outputs": [],
   "source": [
    "#!mamba install pandas==1.3.3 -y\n",
    "#!mamba install requests==2.26.0 -y"
   ]
  },
  {
   "cell_type": "markdown",
   "metadata": {},
   "source": [
    "## Imports\n",
    "\n",
    "Import any additional libraries you may need here.\n"
   ]
  },
  {
   "cell_type": "code",
   "execution_count": 9,
   "metadata": {
    "tags": []
   },
   "outputs": [],
   "source": [
    "import requests\n",
    "import pandas as pd\n",
    "import json"
   ]
  },
  {
   "cell_type": "markdown",
   "metadata": {},
   "source": [
    "## Extract Data Using an API\n"
   ]
  },
  {
   "cell_type": "markdown",
   "metadata": {},
   "source": [
    "Using ExchangeRate-API we will extract currency exchange rate data. Use the below steps to get the access key and to get the data. \n",
    "1. Open the url : https://exchangeratesapi.io/ and click on **Get Free API Key**. \n",
    "2. Subscribe for Free plan and Sign-in with the Google Account. \n",
    "3. Once the account is created you will be redirected to https://apilayer.com website.\n",
    "2. Now, click on the **user icon** and click **Account** as shown below:\n",
    "\n",
    "<img src=\"https://cf-courses-data.s3.us.cloud-object-storage.appdomain.cloud/IBMDeveloperSkillsNetwork-PY0221EN-SkillsNetwork/labs/module%206/Final%20Assignment/Images/account.png\">\n",
    "\n",
    "3. Scroll down and you will get the API Key section. Copy the API key and use in the url in Question 1.\n"
   ]
  },
  {
   "cell_type": "markdown",
   "metadata": {},
   "source": [
    "### Call the API\n",
    "\n",
    " <b> Question 1</b> Using the `requests` library call the endpoint given above and save the text, remember the first few characters of the output: \n"
   ]
  },
  {
   "cell_type": "code",
   "execution_count": 8,
   "metadata": {
    "tags": []
   },
   "outputs": [
    {
     "name": "stdout",
     "output_type": "stream",
     "text": [
      "{\"success\":true,\"timestamp\":1702230243,\"base\":\"EUR\",\"date\":\"2023-12-10\",\"rates\":{\"AED\":3.956477,\"AFN\":74.650396,\"ALL\":101.85054,\"AMD\":435.002306,\"ANG\":1.94331,\"AOA\":896.921713,\"ARS\":392.40248,\"AUD\":1.636573,\"AWG\":1.93924,\"AZN\":1.834216,\"BAM\":1.95581,\"BBD\":2.177112,\"BDT\":118.610629,\"BGN\":1.958784,\"BHD\":0.406502,\"BIF\":3068.116266,\"BMD\":1.077356,\"BND\":1.443708,\"BOB\":7.45104,\"BRL\":5.312874,\"BSD\":1.078306,\"BTC\":2.4603136e-5,\"BTN\":89.909977,\"BWP\":14.690078,\"BYN\":3.552519,\"BYR\":21116.171947,\"BZD\":2.173512,\"CAD\":1.464612,\"CDF\":2887.313355,\"CHF\":0.948138,\"CLF\":0.034057,\"CLP\":939.724982,\"CNY\":7.688654,\"COP\":4300.122797,\"CRC\":569.103017,\"CUC\":1.077356,\"CUP\":28.549926,\"CVE\":110.265585,\"CZK\":24.395217,\"DJF\":191.991018,\"DKK\":7.46241,\"DOP\":61.430326,\"DZD\":145.120931,\"EGP\":33.318877,\"ERN\":16.160336,\"ETB\":60.138019,\"EUR\":1,\"FJD\":2.4108,\"FKP\":0.858541,\"GBP\":0.858588,\"GEL\":2.871133,\"GGP\":0.858541,\"GHS\":12.972069,\"GIP\":0.858541,\"GMD\":72.55971,\"GNF\":9268.049135,\"GTQ\":8.440045,\"GYD\":225.771197,\"HKD\":8.414471,\"HNL\":26.594141,\"HRK\":7.586276,\"HTG\":142.620756,\"HUF\":381.717532,\"IDR\":16777.660497,\"ILS\":3.992713,\"IMP\":0.858541,\"INR\":89.884164,\"IQD\":1411.507483,\"IRR\":45545.212521,\"ISK\":150.463826,\"JEP\":0.858541,\"JMD\":167.82089,\"JOD\":0.764382,\"JPY\":156.070039,\"KES\":166.820884,\"KGS\":96.22942,\"KHR\":4437.023523,\"KMF\":493.267489,\"KPW\":969.62014,\"KRW\":1419.588945,\"KWD\":0.332213,\"KYD\":0.898605,\"KZT\":494.732623,\"LAK\":22346.118468,\"LBP\":16206.585919,\"LKR\":352.932871,\"LRD\":202.811951,\"LSL\":20.447911,\"LTL\":3.181151,\"LVL\":0.651682,\"LYD\":5.212028,\"MAD\":10.923158,\"MDL\":19.177102,\"MGA\":4943.026205,\"MKD\":61.520326,\"MMK\":2264.412005,\"MNT\":3692.102555,\"MOP\":8.677346,\"MRU\":42.661916,\"MUR\":47.522077,\"MVR\":16.536977,\"MWK\":1815.109623,\"MXN\":18.68992,\"MYR\":5.025898,\"MZN\":68.142695,\"NAD\":20.448312,\"NGN\":865.654529,\"NIO\":39.460209,\"NOK\":11.780298,\"NPR\":143.855763,\"NZD\":1.757801,\"OMR\":0.414727,\"PAB\":1.078306,\"PEN\":4.051821,\"PGK\":4.020021,\"PHP\":59.85088,\"PKR\":305.962122,\"PLN\":4.338923,\"PYG\":7927.042025,\"QAR\":3.922625,\"RON\":4.972857,\"RSD\":117.172621,\"RUB\":99.283705,\"RWF\":1356.807193,\"SAR\":4.040605,\"SBD\":9.131609,\"SCR\":14.200621,\"SDG\":647.491147,\"SEK\":11.276573,\"SGD\":1.444794,\"SHP\":1.310872,\"SLE\":24.676717,\"SLL\":21277.775246,\"SOS\":615.170189,\"SRD\":40.442807,\"STD\":22299.088058,\"SYP\":14007.620733,\"SZL\":20.385108,\"THB\":38.416369,\"TJS\":11.780262,\"TMT\":3.770745,\"TND\":3.372666,\"TOP\":2.541751,\"TRY\":31.165096,\"TTD\":7.324039,\"TWD\":33.855366,\"TZS\":2701.11432,\"UAH\":39.60751,\"UGX\":4065.021551,\"USD\":1.077356,\"UYU\":42.140223,\"UZS\":13276.070383,\"VEF\":3826747.370187,\"VES\":38.307888,\"VND\":26104.328892,\"VUV\":128.074825,\"WST\":2.890666,\"XAF\":655.960478,\"XAG\":0.046825,\"XAU\":0.000537,\"XCD\":2.911608,\"XDR\":0.811504,\"XOF\":655.960478,\"XPF\":119.331742,\"YER\":269.689038,\"ZAR\":20.428722,\"ZMK\":9697.49496,\"ZMW\":26.013138,\"ZWL\":346.9081}}\n"
     ]
    }
   ],
   "source": [
    "# Write your code here\n",
    "url = \"http://api.exchangeratesapi.io/v1/latest?base=EUR&access_key=375e62c38b5b476f1279e07082763c66\"  #Make sure to change ******* to your API key.\n",
    "text_data = requests.get(url).text\n",
    "print(text_data)"
   ]
  },
  {
   "cell_type": "markdown",
   "metadata": {},
   "source": [
    "### Save as DataFrame\n",
    "\n",
    " <b> Question 2</b>  Using the data gathered turn it into a `pandas` dataframe. The dataframe should have the Currency as the index and `Rate` as their columns. Make sure to drop unnecessary columns.\n"
   ]
  },
  {
   "cell_type": "code",
   "execution_count": 12,
   "metadata": {
    "tags": []
   },
   "outputs": [
    {
     "data": {
      "text/html": [
       "<div>\n",
       "<style scoped>\n",
       "    .dataframe tbody tr th:only-of-type {\n",
       "        vertical-align: middle;\n",
       "    }\n",
       "\n",
       "    .dataframe tbody tr th {\n",
       "        vertical-align: top;\n",
       "    }\n",
       "\n",
       "    .dataframe thead th {\n",
       "        text-align: right;\n",
       "    }\n",
       "</style>\n",
       "<table border=\"1\" class=\"dataframe\">\n",
       "  <thead>\n",
       "    <tr style=\"text-align: right;\">\n",
       "      <th></th>\n",
       "      <th>success</th>\n",
       "      <th>timestamp</th>\n",
       "      <th>base</th>\n",
       "      <th>date</th>\n",
       "      <th>rates</th>\n",
       "    </tr>\n",
       "  </thead>\n",
       "  <tbody>\n",
       "    <tr>\n",
       "      <th>AED</th>\n",
       "      <td>True</td>\n",
       "      <td>1702230243</td>\n",
       "      <td>EUR</td>\n",
       "      <td>2023-12-10</td>\n",
       "      <td>3.956477</td>\n",
       "    </tr>\n",
       "    <tr>\n",
       "      <th>AFN</th>\n",
       "      <td>True</td>\n",
       "      <td>1702230243</td>\n",
       "      <td>EUR</td>\n",
       "      <td>2023-12-10</td>\n",
       "      <td>74.650396</td>\n",
       "    </tr>\n",
       "    <tr>\n",
       "      <th>ALL</th>\n",
       "      <td>True</td>\n",
       "      <td>1702230243</td>\n",
       "      <td>EUR</td>\n",
       "      <td>2023-12-10</td>\n",
       "      <td>101.850540</td>\n",
       "    </tr>\n",
       "    <tr>\n",
       "      <th>AMD</th>\n",
       "      <td>True</td>\n",
       "      <td>1702230243</td>\n",
       "      <td>EUR</td>\n",
       "      <td>2023-12-10</td>\n",
       "      <td>435.002306</td>\n",
       "    </tr>\n",
       "    <tr>\n",
       "      <th>ANG</th>\n",
       "      <td>True</td>\n",
       "      <td>1702230243</td>\n",
       "      <td>EUR</td>\n",
       "      <td>2023-12-10</td>\n",
       "      <td>1.943310</td>\n",
       "    </tr>\n",
       "  </tbody>\n",
       "</table>\n",
       "</div>"
      ],
      "text/plain": [
       "     success   timestamp base        date       rates\n",
       "AED     True  1702230243  EUR  2023-12-10    3.956477\n",
       "AFN     True  1702230243  EUR  2023-12-10   74.650396\n",
       "ALL     True  1702230243  EUR  2023-12-10  101.850540\n",
       "AMD     True  1702230243  EUR  2023-12-10  435.002306\n",
       "ANG     True  1702230243  EUR  2023-12-10    1.943310"
      ]
     },
     "execution_count": 12,
     "metadata": {},
     "output_type": "execute_result"
    }
   ],
   "source": [
    "# Turn the data into a dataframe\n",
    "data = json.loads(text_data)\n",
    "df = pd.DataFrame(data)\n",
    "df.head()"
   ]
  },
  {
   "cell_type": "code",
   "execution_count": 20,
   "metadata": {
    "tags": []
   },
   "outputs": [
    {
     "data": {
      "text/html": [
       "<div>\n",
       "<style scoped>\n",
       "    .dataframe tbody tr th:only-of-type {\n",
       "        vertical-align: middle;\n",
       "    }\n",
       "\n",
       "    .dataframe tbody tr th {\n",
       "        vertical-align: top;\n",
       "    }\n",
       "\n",
       "    .dataframe thead th {\n",
       "        text-align: right;\n",
       "    }\n",
       "</style>\n",
       "<table border=\"1\" class=\"dataframe\">\n",
       "  <thead>\n",
       "    <tr style=\"text-align: right;\">\n",
       "      <th></th>\n",
       "      <th>rates</th>\n",
       "    </tr>\n",
       "  </thead>\n",
       "  <tbody>\n",
       "    <tr>\n",
       "      <th>AED</th>\n",
       "      <td>3.956477</td>\n",
       "    </tr>\n",
       "    <tr>\n",
       "      <th>AFN</th>\n",
       "      <td>74.650396</td>\n",
       "    </tr>\n",
       "    <tr>\n",
       "      <th>ALL</th>\n",
       "      <td>101.850540</td>\n",
       "    </tr>\n",
       "    <tr>\n",
       "      <th>AMD</th>\n",
       "      <td>435.002306</td>\n",
       "    </tr>\n",
       "    <tr>\n",
       "      <th>ANG</th>\n",
       "      <td>1.943310</td>\n",
       "    </tr>\n",
       "  </tbody>\n",
       "</table>\n",
       "</div>"
      ],
      "text/plain": [
       "          rates\n",
       "AED    3.956477\n",
       "AFN   74.650396\n",
       "ALL  101.850540\n",
       "AMD  435.002306\n",
       "ANG    1.943310"
      ]
     },
     "execution_count": 20,
     "metadata": {},
     "output_type": "execute_result"
    }
   ],
   "source": [
    "# Drop unnescessary columns\n",
    "for column in df.columns[:-1]:\n",
    "    df = df.drop(column, axis=1)\n",
    "    \n",
    "df.head()"
   ]
  },
  {
   "cell_type": "markdown",
   "metadata": {},
   "source": [
    "### Load the Data\n",
    "\n",
    "Using the dataframe save it as a CSV names `exchange_rates_1.csv`.\n"
   ]
  },
  {
   "cell_type": "code",
   "execution_count": 21,
   "metadata": {
    "tags": []
   },
   "outputs": [
    {
     "ename": "NameError",
     "evalue": "name 'csv_file' is not defined",
     "output_type": "error",
     "traceback": [
      "\u001b[0;31m---------------------------------------------------------------------------\u001b[0m",
      "\u001b[0;31mNameError\u001b[0m                                 Traceback (most recent call last)",
      "\u001b[0;32m/tmp/ipykernel_4490/2097321342.py\u001b[0m in \u001b[0;36m<module>\u001b[0;34m\u001b[0m\n\u001b[1;32m      1\u001b[0m \u001b[0;31m# Save the Dataframe\u001b[0m\u001b[0;34m\u001b[0m\u001b[0;34m\u001b[0m\u001b[0;34m\u001b[0m\u001b[0m\n\u001b[0;32m----> 2\u001b[0;31m \u001b[0mdf\u001b[0m\u001b[0;34m.\u001b[0m\u001b[0mto_csv\u001b[0m\u001b[0;34m(\u001b[0m\u001b[0mcsv_file\u001b[0m\u001b[0;34m)\u001b[0m\u001b[0;34m\u001b[0m\u001b[0;34m\u001b[0m\u001b[0m\n\u001b[0m",
      "\u001b[0;31mNameError\u001b[0m: name 'csv_file' is not defined"
     ]
    }
   ],
   "source": [
    "# Save the Dataframe\n",
    "df.to_csv(csv_file)"
   ]
  },
  {
   "cell_type": "markdown",
   "metadata": {},
   "source": [
    "Your CSV should be in this format with more currencies\n",
    "\n",
    "| | Rates |\n",
    "| ------- | ------- |\n",
    "|  AED| 4.398618    |\n",
    "|  AFN| 92.917693   |  \n",
    "|  ALL| 123.099093  |\n",
    "|  AMD| 621.935674  |\n",
    "|  ANG| 2.149648    | \n"
   ]
  },
  {
   "cell_type": "markdown",
   "metadata": {},
   "source": [
    "## Authors\n"
   ]
  },
  {
   "cell_type": "markdown",
   "metadata": {},
   "source": [
    "Ramesh Sannareddy, Joseph Santarcangelo and Azim Hirjani\n"
   ]
  },
  {
   "cell_type": "markdown",
   "metadata": {},
   "source": [
    "### Other Contributors\n"
   ]
  },
  {
   "cell_type": "markdown",
   "metadata": {},
   "source": [
    "Rav Ahuja\n"
   ]
  },
  {
   "cell_type": "markdown",
   "metadata": {},
   "source": [
    "## Change Log\n"
   ]
  },
  {
   "cell_type": "markdown",
   "metadata": {
    "tags": []
   },
   "source": [
    "| Date (YYYY-MM-DD) | Version | Changed By        | Change Description                 |\n",
    "| ----------------- | ------- | ----------------- | ---------------------------------- |\n",
    "| 2022-05-06        | 0.3     | Malika            | Updated instructions to get the API and the url|\n",
    "| 2021-04-15        | 0.2     | Malika            | Updated the lab from USD to EUR    |\n",
    "| 2020-11-25        | 0.1     | Ramesh Sannareddy | Created initial version of the lab |\n"
   ]
  },
  {
   "cell_type": "markdown",
   "metadata": {
    "tags": []
   },
   "source": [
    " Copyright © 2020 IBM Corporation. This notebook and its source code are released under the terms of the [MIT License](https://cognitiveclass.ai/mit-license?utm_medium=Exinfluencer&utm_source=Exinfluencer&utm_content=000026UJ&utm_term=10006555&utm_id=NA-SkillsNetwork-Channel-SkillsNetworkCoursesIBMDeveloperSkillsNetworkPY0221ENSkillsNetwork899-2023-01-01&cm_mmc=Email_Newsletter-_-Developer_Ed%2BTech-_-WW_WW-_-SkillsNetwork-Courses-IBM-DA0321EN-SkillsNetwork-21426264&cm_mmca1=000026UJ&cm_mmca2=10006555&cm_mmca3=M12345678&cvosrc=email.Newsletter.M12345678&cvo_campaign=000026UJ).\n"
   ]
  }
 ],
 "metadata": {
  "kernelspec": {
   "display_name": "Python",
   "language": "python",
   "name": "conda-env-python-py"
  },
  "language_info": {
   "codemirror_mode": {
    "name": "ipython",
    "version": 3
   },
   "file_extension": ".py",
   "mimetype": "text/x-python",
   "name": "python",
   "nbconvert_exporter": "python",
   "pygments_lexer": "ipython3",
   "version": "3.7.12"
  }
 },
 "nbformat": 4,
 "nbformat_minor": 4
}
