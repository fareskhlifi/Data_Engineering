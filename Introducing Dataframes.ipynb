{
 "cells": [
  {
   "cell_type": "markdown",
   "metadata": {},
   "source": [
    "# PySpark Dataframes\n",
    "For each instruction, type the appropriate code into the cell below the instruction. Then, run the code by pressing the `Run` button above.\n",
    "\n",
    "1. Import the SparkSession class:\n",
    "\n",
    "```\n",
    "from pyspark.sql import SparkSession\n",
    "```"
   ]
  },
  {
   "cell_type": "code",
   "execution_count": 1,
   "metadata": {},
   "outputs": [],
   "source": [
    "from pyspark.sql import SparkSession"
   ]
  },
  {
   "cell_type": "markdown",
   "metadata": {},
   "source": [
    "2. Use this class to instiate a Spark session:\n",
    "\n",
    "```\n",
    "spark = SparkSession \\\n",
    "    .builder \\\n",
    "    .appName(\"My First PySpark App\") \\\n",
    "    .getOrCreate()\n",
    "```"
   ]
  },
  {
   "cell_type": "code",
   "execution_count": 2,
   "metadata": {},
   "outputs": [],
   "source": [
    "spark = SparkSession \\\n",
    "    .builder \\\n",
    "    .appName(\"My First PySpark App\") \\\n",
    "    .getOrCreate()"
   ]
  },
  {
   "cell_type": "markdown",
   "metadata": {},
   "source": [
    "3. Take a look at the session object:\n",
    "\n",
    "```\n",
    "spark\n",
    "```"
   ]
  },
  {
   "cell_type": "code",
   "execution_count": 3,
   "metadata": {},
   "outputs": [
    {
     "data": {
      "text/html": [
       "\n",
       "            <div>\n",
       "                <p><b>SparkSession - in-memory</b></p>\n",
       "                \n",
       "        <div>\n",
       "            <p><b>SparkContext</b></p>\n",
       "\n",
       "            <p><a href=\"http://de668fffe428:4040\">Spark UI</a></p>\n",
       "\n",
       "            <dl>\n",
       "              <dt>Version</dt>\n",
       "                <dd><code>v3.3.0</code></dd>\n",
       "              <dt>Master</dt>\n",
       "                <dd><code>local[*]</code></dd>\n",
       "              <dt>AppName</dt>\n",
       "                <dd><code>My First PySpark App</code></dd>\n",
       "            </dl>\n",
       "        </div>\n",
       "        \n",
       "            </div>\n",
       "        "
      ],
      "text/plain": [
       "<pyspark.sql.session.SparkSession at 0x7f61b8c68550>"
      ]
     },
     "execution_count": 3,
     "metadata": {},
     "output_type": "execute_result"
    }
   ],
   "source": [
    "spark"
   ]
  },
  {
   "cell_type": "markdown",
   "metadata": {},
   "source": [
    "4. Read the contents of a csv file into a Dataframe named 'accounts':\n",
    "\n",
    "```\n",
    "accounts = spark.read.option('header', 'true').csv('./data/accounts.csv')\n",
    "```"
   ]
  },
  {
   "cell_type": "code",
   "execution_count": 4,
   "metadata": {},
   "outputs": [
    {
     "name": "stdout",
     "output_type": "stream",
     "text": [
      "+------------------+---------+-----------+----------+-------+\n",
      "|    account_number|      aba|        bic|    opened|balance|\n",
      "+------------------+---------+-----------+----------+-------+\n",
      "|CBXD44669851029839|102317138|RWWEGBRO0T5|2009-06-04| 285769|\n",
      "|GMHS11683964344077|082341703|   TIDCGB2I|2014-06-26| 591000|\n",
      "|GCQT83212037197512|107809939|HGMJGB9AIFY|2006-08-07|1631126|\n",
      "|TDDI73474064461675|046709967|VQEAGBT2HP7|2001-03-20|1977359|\n",
      "|HDVG29919274654139|069217423|BQCSGBADD0Z|2014-11-05| 208204|\n",
      "+------------------+---------+-----------+----------+-------+\n",
      "only showing top 5 rows\n",
      "\n"
     ]
    }
   ],
   "source": [
    "accounts = spark.read.option('header', 'true').csv('./data/accounts.csv')\n",
    "accounts.show(5)"
   ]
  },
  {
   "cell_type": "markdown",
   "metadata": {},
   "source": [
    "5. Take a look at the Dataframe's schema:\n",
    "\n",
    "```\n",
    "accounts.printSchema()\n",
    "```"
   ]
  },
  {
   "cell_type": "code",
   "execution_count": 5,
   "metadata": {},
   "outputs": [
    {
     "name": "stdout",
     "output_type": "stream",
     "text": [
      "root\n",
      " |-- account_number: string (nullable = true)\n",
      " |-- aba: string (nullable = true)\n",
      " |-- bic: string (nullable = true)\n",
      " |-- opened: string (nullable = true)\n",
      " |-- balance: string (nullable = true)\n",
      "\n"
     ]
    }
   ],
   "source": [
    "accounts.printSchema()"
   ]
  },
  {
   "cell_type": "markdown",
   "metadata": {},
   "source": [
    "6. Read the contents of a parquet file into a variable:\n",
    "```\n",
    "transactions = spark.read.option('header', True).parquet('./data/transactions.parquet')\n",
    "```"
   ]
  },
  {
   "cell_type": "code",
   "execution_count": 6,
   "metadata": {},
   "outputs": [
    {
     "name": "stdout",
     "output_type": "stream",
     "text": [
      "+------------------+------+----------+\n",
      "|    account_number|amount|  datetime|\n",
      "+------------------+------+----------+\n",
      "|GSHP69974285041169| -9034|2022-09-08|\n",
      "|LVTT31407534039456| -2952|2022-04-02|\n",
      "|RJSO40371783238228|  3405|2022-05-02|\n",
      "|UOIH17449189991636| -4049|2022-10-07|\n",
      "|FBXP58394333953676| -4157|2022-06-22|\n",
      "+------------------+------+----------+\n",
      "only showing top 5 rows\n",
      "\n"
     ]
    }
   ],
   "source": [
    "transactions = spark.read.option('header', 'true').parquet('./data/transactions.parquet')\n",
    "transactions.show(5)"
   ]
  },
  {
   "cell_type": "markdown",
   "metadata": {},
   "source": [
    "7. See how many rows are in the new Dataframe:\n",
    "```\n",
    "transactions.count()\n",
    "```"
   ]
  },
  {
   "cell_type": "code",
   "execution_count": 7,
   "metadata": {},
   "outputs": [
    {
     "data": {
      "text/plain": [
       "1000000"
      ]
     },
     "execution_count": 7,
     "metadata": {},
     "output_type": "execute_result"
    }
   ],
   "source": [
    "transactions.count()"
   ]
  },
  {
   "cell_type": "markdown",
   "metadata": {},
   "source": [
    "8. Make a new Dataframe by grouping the transactions by account number and summing the groups. This will combine the transactions per account:\n",
    "\n",
    "```\n",
    "account_transactions = transactions.groupby('account_number').sum()\n",
    "```"
   ]
  },
  {
   "cell_type": "code",
   "execution_count": 8,
   "metadata": {},
   "outputs": [
    {
     "name": "stdout",
     "output_type": "stream",
     "text": [
      "+------------------+-----------+\n",
      "|    account_number|sum(amount)|\n",
      "+------------------+-----------+\n",
      "|FBXK78425844480007|     -99434|\n",
      "|XJIU55438863095422|      77947|\n",
      "|XBYT37304125118047|      65101|\n",
      "|UQSE17000937342665|     118473|\n",
      "|KWOU43650129218895|     -35411|\n",
      "+------------------+-----------+\n",
      "only showing top 5 rows\n",
      "\n"
     ]
    }
   ],
   "source": [
    "account_transactions = transactions.groupby('account_number').sum()\n",
    "account_transactions.show(5)"
   ]
  },
  {
   "cell_type": "markdown",
   "metadata": {},
   "source": [
    "9. Combine the accounts with the summed transaction values:\n",
    "\n",
    "```\n",
    "with_sum = accounts.join(account_transactions, 'account_number', 'inner')\n",
    "```"
   ]
  },
  {
   "cell_type": "code",
   "execution_count": 9,
   "metadata": {},
   "outputs": [
    {
     "name": "stdout",
     "output_type": "stream",
     "text": [
      "+------------------+---------+-----------+----------+-------+-----------+\n",
      "|    account_number|      aba|        bic|    opened|balance|sum(amount)|\n",
      "+------------------+---------+-----------+----------+-------+-----------+\n",
      "|FBXK78425844480007|125056531|   TFJQGB5D|2014-05-07| 710027|     -99434|\n",
      "|XJIU55438863095422|036174230|   KILTGB3K|2009-12-18| 339452|      77947|\n",
      "|XBYT37304125118047|061333512|UVXHGB0SHJC|2013-12-21| 948840|      65101|\n",
      "|UQSE17000937342665|028459374|JBPYGB7X207|2009-07-30| 928422|     118473|\n",
      "|KWOU43650129218895|038163281|   PHLOGB1V|2016-06-14|1119190|     -35411|\n",
      "+------------------+---------+-----------+----------+-------+-----------+\n",
      "only showing top 5 rows\n",
      "\n"
     ]
    }
   ],
   "source": [
    "with_sum = accounts.join(account_transactions, 'account_number', 'inner')\n",
    "with_sum.show(5)"
   ]
  },
  {
   "cell_type": "markdown",
   "metadata": {},
   "source": [
    "10. Get the current balance per account by summing the transaction sums with the initial account balance:\n",
    "\n",
    "```\n",
    "accounts = with_sum.withColumn('new_balance', sum([with_sum.balance, with_sum['sum(amount)']]))\n",
    "```"
   ]
  },
  {
   "cell_type": "code",
   "execution_count": 10,
   "metadata": {},
   "outputs": [
    {
     "name": "stdout",
     "output_type": "stream",
     "text": [
      "+------------------+---------+-----------+----------+-------+-----------+-----------+\n",
      "|    account_number|      aba|        bic|    opened|balance|sum(amount)|new_balance|\n",
      "+------------------+---------+-----------+----------+-------+-----------+-----------+\n",
      "|FBXK78425844480007|125056531|   TFJQGB5D|2014-05-07| 710027|     -99434|   610593.0|\n",
      "|XJIU55438863095422|036174230|   KILTGB3K|2009-12-18| 339452|      77947|   417399.0|\n",
      "|XBYT37304125118047|061333512|UVXHGB0SHJC|2013-12-21| 948840|      65101|  1013941.0|\n",
      "|UQSE17000937342665|028459374|JBPYGB7X207|2009-07-30| 928422|     118473|  1046895.0|\n",
      "|KWOU43650129218895|038163281|   PHLOGB1V|2016-06-14|1119190|     -35411|  1083779.0|\n",
      "+------------------+---------+-----------+----------+-------+-----------+-----------+\n",
      "only showing top 5 rows\n",
      "\n"
     ]
    }
   ],
   "source": [
    "accounts = with_sum.withColumn('new_balance', sum([with_sum.balance, with_sum['sum(amount)']]))\n",
    "accounts.show(5)"
   ]
  },
  {
   "cell_type": "markdown",
   "metadata": {},
   "source": [
    "11. Get accounts with negative current balances:\n",
    "\n",
    "```\n",
    "neg_balance = accounts.filter(accounts.new_balance < 0)\n",
    "```"
   ]
  },
  {
   "cell_type": "code",
   "execution_count": 11,
   "metadata": {},
   "outputs": [
    {
     "name": "stdout",
     "output_type": "stream",
     "text": [
      "+------------------+---------+-----------+----------+-------+-----------+-----------+\n",
      "|    account_number|      aba|        bic|    opened|balance|sum(amount)|new_balance|\n",
      "+------------------+---------+-----------+----------+-------+-----------+-----------+\n",
      "|JMTP45763117901514|108480276|   AKJGGBSL|2000-11-08|  57948|     -85521|   -27573.0|\n",
      "|RBUE05237750254383|054916920|   EXUPGBRO|2010-09-07|  35094|    -138553|  -103459.0|\n",
      "|RJMY57096756148587|098748471|   SPIOGBOT|2005-05-11|  43690|    -102019|   -58329.0|\n",
      "|ZYMB62177146259441|115359235|   XWITGB3O|2014-01-21|  26460|     -81891|   -55431.0|\n",
      "|LRTH65732611614073|108298031|ZWIOGB1G1I8|2013-05-27|  50235|    -154066|  -103831.0|\n",
      "+------------------+---------+-----------+----------+-------+-----------+-----------+\n",
      "only showing top 5 rows\n",
      "\n"
     ]
    }
   ],
   "source": [
    "neg_balance = accounts.filter(accounts.new_balance < 0)\n",
    "neg_balance.show(5)"
   ]
  },
  {
   "cell_type": "markdown",
   "metadata": {},
   "source": [
    "12. Read client data from a json file:\n",
    "\n",
    "```\n",
    "clients = spark.read.json('./data/clients.json')\n",
    "```"
   ]
  },
  {
   "cell_type": "code",
   "execution_count": 12,
   "metadata": {},
   "outputs": [
    {
     "name": "stdout",
     "output_type": "stream",
     "text": [
      "+------------------+--------------------+--------------------+----------+---------+\n",
      "|    account_number|             address|               email|first_name|last_name|\n",
      "+------------------+--------------------+--------------------+----------+---------+\n",
      "|CBXD44669851029839|591 Christopher C...|dmorales@example.com|   Jeffrey|  Schultz|\n",
      "|GMHS11683964344077|44967 Watson Cany...|lovebrian@example...|  Jennifer|   Waters|\n",
      "|GCQT83212037197512|240 Ryan Heights\\...| peter16@example.com|      Mark|  Marquez|\n",
      "|TDDI73474064461675|505 Clark Field S...| randy08@example.org|  Clifford|    Young|\n",
      "|HDVG29919274654139|9120 Olsen Curve\\...|stevensdavid@exam...|   Jessica|    Price|\n",
      "+------------------+--------------------+--------------------+----------+---------+\n",
      "only showing top 5 rows\n",
      "\n"
     ]
    }
   ],
   "source": [
    "clients = spark.read.json('./data/clients.json')\n",
    "clients.show(5)"
   ]
  },
  {
   "cell_type": "markdown",
   "metadata": {},
   "source": [
    "13. Get the clients with a negative balance:\n",
    "\n",
    "```\n",
    "clients = clients.join(neg_balance, 'account_number', 'inner')\n",
    "```"
   ]
  },
  {
   "cell_type": "code",
   "execution_count": 13,
   "metadata": {},
   "outputs": [
    {
     "data": {
      "text/plain": [
       "118"
      ]
     },
     "execution_count": 13,
     "metadata": {},
     "output_type": "execute_result"
    }
   ],
   "source": [
    "clients = clients.join(neg_balance, 'account_number', 'inner')\n",
    "clients.count()"
   ]
  },
  {
   "cell_type": "markdown",
   "metadata": {},
   "source": [
    "14. Look at the top five clients with negative balances:\n",
    "\n",
    "```\n",
    "clients.select(['first_name', 'last_name', 'account_number', 'new_balance']).show(5)\n",
    "```"
   ]
  },
  {
   "cell_type": "code",
   "execution_count": 14,
   "metadata": {},
   "outputs": [
    {
     "name": "stdout",
     "output_type": "stream",
     "text": [
      "+----------+---------+------------------+-----------+\n",
      "|first_name|last_name|    account_number|new_balance|\n",
      "+----------+---------+------------------+-----------+\n",
      "|    Meagan| Sandoval|JMTP45763117901514|   -27573.0|\n",
      "|  Michelle|   Knight|RBUE05237750254383|  -103459.0|\n",
      "|      Paul|   Massey|RJMY57096756148587|   -58329.0|\n",
      "|  Michelle|    Perez|ZYMB62177146259441|   -55431.0|\n",
      "|     David|    Green|LRTH65732611614073|  -103831.0|\n",
      "+----------+---------+------------------+-----------+\n",
      "only showing top 5 rows\n",
      "\n"
     ]
    }
   ],
   "source": [
    "clients.select(['first_name', 'last_name', 'account_number', 'new_balance']).show(5)"
   ]
  }
 ],
 "metadata": {
  "kernelspec": {
   "display_name": "Python 3",
   "language": "python",
   "name": "python3"
  },
  "language_info": {
   "codemirror_mode": {
    "name": "ipython",
    "version": 3
   },
   "file_extension": ".py",
   "mimetype": "text/x-python",
   "name": "python",
   "nbconvert_exporter": "python",
   "pygments_lexer": "ipython3",
   "version": "3.7.6"
  }
 },
 "nbformat": 4,
 "nbformat_minor": 4
}
